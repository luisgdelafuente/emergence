{
 "cells": [
  {
   "attachments": {},
   "cell_type": "markdown",
   "metadata": {},
   "source": [
    "Entropy, as introduced by Shannon in his “A Mathematical Theory of Communication”, is a measure of the amount of uncertainty or randomness in a message. It is defined as the negative sum of the probabilities of each symbol multiplied by the logarithm of that probability.\n",
    "\n",
    "Shannon’s entropy provides a theoretical limit on the amount of information that can be transmitted over a channel, as well as on the best possible data compression that can be achieved.\n",
    "\n",
    "In general, the more different letters in a message, and the longer the message, the more unpredictable the message is and the more information it contains. This is because a message with a greater variety of symbols has more possible outcomes and therefore, carries more information.\n",
    "\n",
    "On the other hand, a message with fewer letters and shorter length is more predictable and contains less information, as there are fewer possible outcomes. This is reflected in the entropy, as a message with a greater variety of symbols will have a higher entropy and a message with fewer symbols will have a lower entropy.\n",
    "\n",
    "Recommended: plot the entropy function according to different texts, lengths and languages.\n",
    "\n",
    "Analysis: If the entropy of dissipative system tends to decrease, the emergence patterns are somehow related to the minimisation of the entropy function that best represents the system."
   ]
  },
  {
   "cell_type": "code",
   "execution_count": 12,
   "metadata": {},
   "outputs": [
    {
     "name": "stdout",
     "output_type": "stream",
     "text": [
      "The entropy of the message is:  0.37123232664087563\n"
     ]
    }
   ],
   "source": [
    "from math import log2\n",
    "\n",
    "def entropy(message):\n",
    "    # Create a dictionary to store the frequency of each letter\n",
    "    letter_freq = {}\n",
    "    for letter in message:\n",
    "        if letter.isalpha():\n",
    "            if letter in letter_freq:\n",
    "                letter_freq[letter] += 1\n",
    "            else:\n",
    "                letter_freq[letter] = 1\n",
    "   \n",
    "    # Calculate the probability of each letter\n",
    "    total_letters = sum(letter_freq.values())\n",
    "    prob = {letter: freq/total_letters for letter, freq in letter_freq.items()}\n",
    "   \n",
    "    # Calculate the entropy\n",
    "    entropy = 0\n",
    "    for letter in prob:\n",
    "        entropy += prob[letter] * log2(prob[letter])\n",
    "   \n",
    "    return -entropy\n",
    "\n",
    "message2 = \"On the other hand, a message with fewer letters and shorter length is more predictable and contains less information, and a longer one con mas texto es en cambio más impredecible y por tanto tiene más entropía. \"\n",
    "message1 = \"Unfortunately Unfortunately Unfortunately Unfortunately Unfortunately \"\n",
    "message = \"uuuuuuuuiuuuuu\"\n",
    "\n",
    "print(\"The entropy of the message is: \", entropy(message))\n"
   ]
  },
  {
   "cell_type": "code",
   "execution_count": 30,
   "metadata": {},
   "outputs": [
    {
     "name": "stdout",
     "output_type": "stream",
     "text": [
      "The entropy of the message is:  3.8954201887252182\n"
     ]
    }
   ],
   "source": [
    "# Lets use alphanumeric values instead of just numbers\n",
    "\n",
    "from math import log2\n",
    "\n",
    "def entropy(message):\n",
    "    # Create a dictionary to store the frequency of each alphanumeric character\n",
    "    char_freq = {}\n",
    "    for char in message:\n",
    "        if char.isalnum():\n",
    "            if char in char_freq:\n",
    "                char_freq[char] += 1\n",
    "            else:\n",
    "                char_freq[char] = 1\n",
    "\n",
    "    # Calculate the probability of each alphanumeric character\n",
    "    total_chars = sum(char_freq.values())\n",
    "    prob = {char: freq/total_chars for char, freq in char_freq.items()}\n",
    "\n",
    "    # Calculate the entropy\n",
    "    entropy_val = 0\n",
    "    for char in prob:\n",
    "        entropy_val += prob[char] * log2(prob[char])\n",
    "\n",
    "    return -entropy_val\n",
    "\n",
    "message3 = \"The theory that Bitcoin was created by the NSA or that there are master keys controlled by a government agency is a popular conspiracy theory, but there's no concrete evidence to support these claims. Let's break down some of the points related to this theory: Satoshi Nakamoto's Identity: The true identity of Satoshi Nakamoto, the pseudonymous creator of Bitcoin, remains unknown. Over the years, many theories have been proposed regarding Nakamoto's identity, including the idea that it might be a group of people, a corporation, or even a government agency like the NSA. However, there's no definitive proof linking the NSA or any other entity to Nakamoto's identity. Cryptography in Bitcoin: While the NSA has been involved in the creation and recommendation of cryptographic standards (like the SHA-256 hashing algorithm, which is used in Bitcoin), the use of such an algorithm doesn't imply that the NSA created Bitcoin or has any control over it. SHA-256 is a widely-accepted and well-reviewed cryptographic hash function that's used in many applications beyond Bitcoin. As previously explained, there's no master key in the Bitcoin protocol that allows control over the entire network. The decentralized and open-source nature of Bitcoin means that its code and protocols are open for review by anyone. If there were a backdoor or master key, it would likely have been discovered by the many experts who have reviewed the code. Purpose of Bitcoin: The ethos and principles outlined in the Bitcoin whitepaper seem to be in contrast to the interests of a centralized agency like the NSA. Bitcoin promotes decentralization, censorship resistance, and financial sovereignty, which are not typically in line with the goals of centralized government agencies. Open Source Scrutiny: Bitcoin's source code is open for anyone to review, and it has been scrutinized by countless independent developers and cryptographers since its inception. A hidden master key or backdoor would be a significant discovery and would likely have been found and publicized by now. While it's natural for such conspiracy theories to arise given the mysterious origins of Bitcoin and its transformative potential, it's essential to differentiate between speculation and evidence-based claims. As of my last update in September 2021, there's no concrete evidence to support the theory that the NSA created Bitcoin or that they hold any master keys to the network.\"\n",
    "message2 = \"On the other hand, a message with fewer letters and shorter length is more predictable and contains less information\"\n",
    "message1 = \"Unfortunately Unfortunately Unfortunately Unfortunately Unfortunately \"\n",
    "message = \"uu1uuuuuuuuuuuuuuuuuuuuuuuuuuuuuuuuuuuuuuuuuuuuuuuuuuuuuuuuuuuuuuuuuuuuuuuuuuuuuuuuuuuuuuuuuuuuuuuuuuuuuuuuuuuuu\"\n",
    "\n",
    "print(\"The entropy of the message is: \", entropy(message2))\n",
    "\n",
    "# last message has very little entropy but its not zero, which means there´s still some information in it. \n"
   ]
  },
  {
   "cell_type": "markdown",
   "metadata": {},
   "source": []
  },
  {
   "cell_type": "code",
   "execution_count": null,
   "metadata": {},
   "outputs": [],
   "source": []
  }
 ],
 "metadata": {
  "kernelspec": {
   "display_name": "base",
   "language": "python",
   "name": "python3"
  },
  "language_info": {
   "codemirror_mode": {
    "name": "ipython",
    "version": 3
   },
   "file_extension": ".py",
   "mimetype": "text/x-python",
   "name": "python",
   "nbconvert_exporter": "python",
   "pygments_lexer": "ipython3",
   "version": "3.11.4"
  },
  "orig_nbformat": 4,
  "vscode": {
   "interpreter": {
    "hash": "83274c31c9221182fb1fe126cd0ae34f8001af217d374c7998aef38dd4f692b5"
   }
  }
 },
 "nbformat": 4,
 "nbformat_minor": 2
}
