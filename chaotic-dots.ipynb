{
  "nbformat": 4,
  "nbformat_minor": 0,
  "metadata": {
    "colab": {
      "provenance": [],
      "authorship_tag": "ABX9TyP1i3pONxeLkwsdfCs1EeOK",
      "include_colab_link": true
    },
    "kernelspec": {
      "name": "python3",
      "display_name": "Python 3"
    },
    "language_info": {
      "name": "python"
    }
  },
  "cells": [
    {
      "cell_type": "markdown",
      "metadata": {
        "id": "view-in-github",
        "colab_type": "text"
      },
      "source": [
        "<a href=\"https://colab.research.google.com/github/luisgdelafuente/emergence/blob/main/chaotic-dots.ipynb\" target=\"_parent\"><img src=\"https://colab.research.google.com/assets/colab-badge.svg\" alt=\"Open In Colab\"/></a>"
      ]
    },
    {
      "cell_type": "code",
      "source": [
        "import numpy as np\n",
        "import matplotlib.pyplot as plt\n",
        "from matplotlib.animation import FuncAnimation\n",
        "from IPython.display import HTML\n",
        "\n",
        "# Number of points\n",
        "num_points = 100\n",
        "\n",
        "# Initialize points randomly within the plot\n",
        "points = np.random.rand(num_points, 2)\n",
        "\n",
        "# Create a figure and axis\n",
        "fig, ax = plt.subplots()\n",
        "ax.set_xlim(0, 1)\n",
        "ax.set_ylim(0, 1)\n",
        "\n",
        "# Create a scatter plot for points\n",
        "scatter = ax.scatter(points[:, 0], points[:, 1], marker='o', c='b', s=20)\n",
        "\n",
        "# Update function for animation\n",
        "def update(frame):\n",
        "    global points\n",
        "\n",
        "    # Apply forces to move points towards their neighbors\n",
        "    for i, point in enumerate(points):\n",
        "        neighbors = points[(points != point).all(axis=1)]  # Exclude the point itself\n",
        "\n",
        "        # Compute the influence of each neighbor\n",
        "        influence = np.zeros_like(point)\n",
        "        for neighbor in neighbors:\n",
        "            distance = np.linalg.norm(point - neighbor)\n",
        "            if distance < 0.1:  # Influence range\n",
        "                direction = neighbor - point\n",
        "                influence += direction / (distance + 1e-6)\n",
        "\n",
        "        # Move the point based on the influence of the neighbors\n",
        "        move_factor = 0.005\n",
        "        points[i] = point + move_factor * influence\n",
        "\n",
        "    # Update scatter plot data\n",
        "    scatter.set_offsets(points)\n",
        "\n",
        "    return scatter,\n",
        "\n",
        "# Create the animation\n",
        "ani = FuncAnimation(fig, update, frames=500, interval=100, blit=True)\n",
        "\n",
        "# Display the animation in the notebook\n",
        "plt.close()  # Prevents duplicate display\n",
        "HTML(ani.to_jshtml())\n"
      ],
      "metadata": {
        "id": "Cr9yhOP2RkPC"
      },
      "execution_count": null,
      "outputs": []
    }
  ]
}