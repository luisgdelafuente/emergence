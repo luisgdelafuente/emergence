{
 "cells": [
  {
   "cell_type": "markdown",
   "id": "a8731b36",
   "metadata": {},
   "source": [
    "This code will render a game of life to see how a corner of the window incubates and spreads living cells into the rest of the window, which start empty. "
   ]
  },
  {
   "cell_type": "code",
   "execution_count": null,
   "id": "1abe13ee",
   "metadata": {},
   "outputs": [
    {
     "name": "stdout",
     "output_type": "stream",
     "text": [
      "Requirement already satisfied: pygame in c:\\users\\luisg\\anaconda3\\lib\\site-packages (2.1.2)\n"
     ]
    }
   ],
   "source": [
    "# Remember to install pygame \n",
    "# !pip install pygame\n",
    "\n",
    "\n",
    "import pygame\n",
    "import random\n",
    "\n",
    "# Initialize pygame\n",
    "pygame.init()\n",
    "\n",
    "# Set up the window\n",
    "width, height = 500, 500\n",
    "screen = pygame.display.set_mode((width, height))\n",
    "pygame.display.set_caption(\"Game of Life\")\n",
    "\n",
    "# Set up the grid\n",
    "cell_size = 5\n",
    "rows = 100\n",
    "columns = 100\n",
    "grid = [[0 for _ in range(columns)] for _ in range(rows)]\n",
    "\n",
    "# Set up the colors\n",
    "dead_color = (255, 255, 255)\n",
    "alive_color = (0, 0, 0)\n",
    "\n",
    "# Set up the clock\n",
    "clock = pygame.time.Clock()\n",
    "\n",
    "# Set up the initial state of the cells (change here to fix the initial spread)\n",
    "for i in range(rows//2):\n",
    "    for j in range(columns//2):\n",
    "        grid[i][j] = random.choice([0, 1])\n",
    "\n",
    "# Main game loop\n",
    "running = True\n",
    "while running:\n",
    "    for event in pygame.event.get():\n",
    "        if event.type == pygame.QUIT:\n",
    "            running = False\n",
    "\n",
    "    # Update the state of the cells\n",
    "    new_grid = [[0 for _ in range(columns)] for _ in range(rows)]\n",
    "    for i in range(rows):\n",
    "        for j in range(columns):\n",
    "            # Count the number of alive neighbors\n",
    "            alive_neighbors = 0\n",
    "            for x in range(-1, 2):\n",
    "                for y in range(-1, 2):\n",
    "                    if x == 0 and y == 0:\n",
    "                        continue\n",
    "                    if i + x < 0 or i + x >= rows or j + y < 0 or j + y >= columns:\n",
    "                        continue\n",
    "                    alive_neighbors += grid[i + x][j + y]\n",
    "            # Update the cell based on the rules of the Game of Life\n",
    "            if grid[i][j] == 1:\n",
    "                if alive_neighbors < 2 or alive_neighbors > 3:\n",
    "                    new_grid[i][j] = 0\n",
    "                else:\n",
    "                    new_grid[i][j] = 1\n",
    "            else:\n",
    "                if alive_neighbors == 3:\n",
    "                    new_grid[i][j] = 1\n",
    "\n",
    "    # Draw the cells on the screen\n",
    "    for i in range(rows):\n",
    "        for j in range(columns):\n",
    "            color = alive_color if grid[i][j] == 1 else dead_color\n",
    "            pygame.draw.rect(screen, color, (j * cell_size, i * cell_size, cell_size, cell_size))\n",
    "\n",
    "    # Update the grid\n",
    "    grid = new_grid\n",
    "\n",
    "    # Update the display\n",
    "    pygame.display.flip()\n",
    "\n",
    "    # Limit the frame rate\n",
    "    clock.tick(10)\n",
    "\n",
    "# Quit pygame\n",
    "pygame.quit()\n"
   ]
  },
  {
   "cell_type": "code",
   "execution_count": null,
   "id": "4e0d35b4",
   "metadata": {},
   "outputs": [],
   "source": []
  }
 ],
 "metadata": {
  "kernelspec": {
   "display_name": "Python 3 (ipykernel)",
   "language": "python",
   "name": "python3"
  },
  "language_info": {
   "codemirror_mode": {
    "name": "ipython",
    "version": 3
   },
   "file_extension": ".py",
   "mimetype": "text/x-python",
   "name": "python",
   "nbconvert_exporter": "python",
   "pygments_lexer": "ipython3",
   "version": "3.9.13"
  }
 },
 "nbformat": 4,
 "nbformat_minor": 5
}
